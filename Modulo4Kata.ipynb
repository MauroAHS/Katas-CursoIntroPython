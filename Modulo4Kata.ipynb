{
 "cells": [
  {
   "cell_type": "code",
   "execution_count": 6,
   "metadata": {},
   "outputs": [
    {
     "data": {
      "text/plain": [
       "['Un día saqué del auto y destruí un montón de revistas para adolescentes',\n",
       " 'De la edad de piedra, en el fondo; muy modernas, o al menos micénicas, en cuanto a la higiene',\n",
       " 'Una actriz muy hermosa y en plena sazón, con pestañas inmensas y un labio inferior rojo y pulposo, usando un champú',\n",
       " 'Anuncios, modas',\n",
       " 'Los jóvenes estudiantes adoran la profusión de las faldas dobladas',\n",
       " 'A menos que sea mucho más viejo o muy importante, el caballero siempre se debe quitar los guantes antes de tomar la mano.']"
      ]
     },
     "execution_count": 6,
     "metadata": {},
     "output_type": "execute_result"
    }
   ],
   "source": [
    "text = \"\"\"Un día saqué del auto y destruí un montón de revistas para adolescentes. De la edad de piedra, en el fondo; muy modernas, o al menos micénicas, en cuanto a la higiene. Una actriz muy hermosa y en plena sazón, con pestañas inmensas y un labio inferior rojo y pulposo, usando un champú. Anuncios, modas. Los jóvenes estudiantes adoran la profusión de las faldas dobladas. A menos que sea mucho más viejo o muy importante, el caballero siempre se debe quitar los guantes antes de tomar la mano.\"\"\"\n",
    "\n",
    "text_parts = text.split('. ')\n",
    "text_parts"
   ]
  },
  {
   "cell_type": "code",
   "execution_count": 7,
   "metadata": {},
   "outputs": [],
   "source": [
    "key_words = [\"revistas\", \"estudiantes\", \"caballero\"]"
   ]
  },
  {
   "cell_type": "code",
   "execution_count": 8,
   "metadata": {},
   "outputs": [
    {
     "name": "stdout",
     "output_type": "stream",
     "text": [
      "Un día saqué del auto y destruí un montón de revistas para adolescentes\n",
      "Los jóvenes estudiantes adoran la profusión de las faldas dobladas\n",
      "A menos que sea mucho más viejo o muy importante, el caballero siempre se debe quitar los guantes antes de tomar la mano.\n"
     ]
    }
   ],
   "source": [
    "for sentence in text_parts:\n",
    "    for key_word in key_words:\n",
    "        if key_word in sentence:\n",
    "            print(sentence)\n",
    "            break"
   ]
  },
  {
   "cell_type": "code",
   "execution_count": 9,
   "metadata": {},
   "outputs": [
    {
     "name": "stdout",
     "output_type": "stream",
     "text": [
      "Un día saqué del automovil y destruí un montón de revistas para adolescentes\n",
      "Los jóvenes estudiantes adoran la profusión de las faldas dobladas\n",
      "A menos que sea mucho más viejo o muy importante, el caballero siempre se debe quitar los guantes antes de tomar la mano.\n"
     ]
    }
   ],
   "source": [
    "for sentence in text_parts:\n",
    "    for key_word in key_words:\n",
    "        if key_word in sentence:\n",
    "            print(sentence.replace(' auto', ' automovil'))\n",
    "            break"
   ]
  },
  {
   "cell_type": "markdown",
   "metadata": {},
   "source": [
    "Quise cambiar la información de ejemplo varias veces para comprender bien el uso de cada línea. // Fin del ejercicio 1"
   ]
  },
  {
   "cell_type": "code",
   "execution_count": 53,
   "metadata": {},
   "outputs": [
    {
     "name": "stdout",
     "output_type": "stream",
     "text": [
      "-------------------------------------------------------------------------------- \n",
      "Nombre del planeta: Marte  \n",
      "Gravedad en Fobos: 1.4300000000000002 m/s2 \n",
      "\n",
      "-------------------------------------------------------------------------------- \n",
      "Nombre del planeta: Marte  \n",
      "Gravedad en Fobos: 1.4300000000000002 m/s2 \n",
      "\n",
      "\n",
      "Datos de Gravedad sobre: Delmos\n",
      "-------------------------------------------------------------------------------\n",
      "Nombre del planeta: Tierra \n",
      "Gravedad en Delmos: 0.00152 m/s2\n",
      "\n",
      "\n",
      "Datos de Gravedad sobre: Delmos\n",
      "-------------------------------------------------------------------------------\n",
      "Nombre del planeta: Tierra \n",
      "Gravedad en Delmos: 1.52 m/s2\n",
      "\n"
     ]
    }
   ],
   "source": [
    "planeta = 'Marte '\n",
    "gravedad  = 0.00143\n",
    "nombre = 'Fobos'\n",
    "\n",
    "title = f\"Información general sobre la gravedad de {nombre}\"\n",
    "\n",
    "hechos = f\"\"\"{'-'*80} \n",
    "Nombre del planeta: {planeta} \n",
    "Gravedad en {nombre}: {gravedad * 1000} m/s2 \n",
    "\"\"\"\n",
    "\n",
    "template = f\"\"\"{title.title()} \n",
    "{hechos} \n",
    "\"\"\" \n",
    "print(hechos)\n",
    "\n",
    "planeta = 'Tierra '\n",
    "gravedad  = 0.00152\n",
    "nombre = 'Delmos'\n",
    "\n",
    "print(hechos)\n",
    "\n",
    "new_template = \"\"\"\n",
    "Datos de Gravedad sobre: {nombre}\n",
    "-------------------------------------------------------------------------------\n",
    "Nombre del planeta: {planeta}\n",
    "Gravedad en {nombre}: {gravedad} m/s2\n",
    "\"\"\"\n",
    "print(new_template.format(nombre=nombre, planeta=planeta, gravedad=gravedad))\n",
    "\n",
    "\n",
    "print(new_template.format(nombre=nombre, planeta=planeta, gravedad=gravedad*1000))\n"
   ]
  }
 ],
 "metadata": {
  "interpreter": {
   "hash": "aee8b7b246df8f9039afb4144a1f6fd8d2ca17a180786b69acc140d282b71a49"
  },
  "kernelspec": {
   "display_name": "Python 3.10.2 64-bit",
   "language": "python",
   "name": "python3"
  },
  "language_info": {
   "codemirror_mode": {
    "name": "ipython",
    "version": 3
   },
   "file_extension": ".py",
   "mimetype": "text/x-python",
   "name": "python",
   "nbconvert_exporter": "python",
   "pygments_lexer": "ipython3",
   "version": "3.10.2"
  },
  "orig_nbformat": 4
 },
 "nbformat": 4,
 "nbformat_minor": 2
}
