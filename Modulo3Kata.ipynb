{
 "cells": [
  {
   "cell_type": "code",
   "execution_count": 5,
   "metadata": {},
   "outputs": [
    {
     "name": "stdout",
     "output_type": "stream",
     "text": [
      "ADVERTENCIA ¡Un asteroide se acerca a una gran velocidad!\n"
     ]
    }
   ],
   "source": [
    "asteroide = 49\n",
    "\n",
    "if asteroide > 25:\n",
    "    print(\"ADVERTENCIA ¡Un asteroide se acerca a una gran velocidad!\")\n",
    "else:\n",
    "    print(\"Todo bien, sigue con tus labores del día\")"
   ]
  },
  {
   "cell_type": "code",
   "execution_count": 8,
   "metadata": {},
   "outputs": [
    {
     "name": "stdout",
     "output_type": "stream",
     "text": [
      "Todo bien, sigue con tus labores del día\n"
     ]
    }
   ],
   "source": [
    "asteroide = 19\n",
    "if asteroide > 20:\n",
    "    print(\"Mira al cielo: se puede observar un asteroide en el cielo\")\n",
    "elif asteroide == 20:\n",
    "    print (\"Mira al cielo: se puede observar un asteroide en el cielo\")\n",
    "else:\n",
    "    print(\"Todo bien, sigue con tus labores del día\")"
   ]
  },
  {
   "cell_type": "code",
   "execution_count": 9,
   "metadata": {},
   "outputs": [
    {
     "name": "stdout",
     "output_type": "stream",
     "text": [
      "Mira al cielo: se puede observar un asteroide en el cielo\n"
     ]
    }
   ],
   "source": [
    "velocidad_asteroide = 25\n",
    "size_asteroide = 40\n",
    "if velocidad_asteroide > 25 and size_asteroide > 25:\n",
    "    print(\"ADVERTENCIA: Un asteroide estáa punto de colapsar en la Tierra\")\n",
    "elif velocidad_asteroide >= 20:\n",
    "    print(\"Mira al cielo: se puede observar un asteroide en el cielo\")\n",
    "elif size_asteroide < 25:\n",
    "    print (\"Todo bien, sigue con tus labores del día\")\n",
    "else:\n",
    "    print(\"Todo bien, sigue con tus labores del día\")"
   ]
  }
 ],
 "metadata": {
  "interpreter": {
   "hash": "aee8b7b246df8f9039afb4144a1f6fd8d2ca17a180786b69acc140d282b71a49"
  },
  "kernelspec": {
   "display_name": "Python 3.10.2 64-bit",
   "language": "python",
   "name": "python3"
  },
  "language_info": {
   "codemirror_mode": {
    "name": "ipython",
    "version": 3
   },
   "file_extension": ".py",
   "mimetype": "text/x-python",
   "name": "python",
   "nbconvert_exporter": "python",
   "pygments_lexer": "ipython3",
   "version": "3.10.2"
  },
  "orig_nbformat": 4
 },
 "nbformat": 4,
 "nbformat_minor": 2
}
